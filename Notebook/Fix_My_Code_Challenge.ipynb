{
  "nbformat": 4,
  "nbformat_minor": 0,
  "metadata": {
    "colab": {
      "provenance": [],
      "authorship_tag": "ABX9TyO5YhrclGW7A0BIwi0/zPk6",
      "include_colab_link": true
    },
    "kernelspec": {
      "name": "python3",
      "display_name": "Python 3"
    },
    "language_info": {
      "name": "python"
    }
  },
  "cells": [
    {
      "cell_type": "markdown",
      "metadata": {
        "id": "view-in-github",
        "colab_type": "text"
      },
      "source": [
        "<a href=\"https://colab.research.google.com/github/MegaChie/Fix_My_Code_Challenge/blob/main/Notebook/Fix_My_Code_Challenge.ipynb\" target=\"_parent\"><img src=\"https://colab.research.google.com/assets/colab-badge.svg\" alt=\"Open In Colab\"/></a>"
      ]
    },
    {
      "cell_type": "code",
      "execution_count": 1,
      "metadata": {
        "colab": {
          "base_uri": "https://localhost:8080/",
          "height": 226
        },
        "id": "BXQ_S_H2pRGV",
        "outputId": "74b6d67b-0e97-4de9-e5eb-3372b2f77d09"
      },
      "outputs": [
        {
          "output_type": "error",
          "ename": "ValueError",
          "evalue": "ignored",
          "traceback": [
            "\u001b[0;31m---------------------------------------------------------------------------\u001b[0m",
            "\u001b[0;31mValueError\u001b[0m                                Traceback (most recent call last)",
            "\u001b[0;32m<ipython-input-1-b98a640d73b4>\u001b[0m in \u001b[0;36m<module>\u001b[0;34m\u001b[0m\n\u001b[1;32m     36\u001b[0m         \u001b[0msys\u001b[0m\u001b[0;34m.\u001b[0m\u001b[0mexit\u001b[0m\u001b[0;34m(\u001b[0m\u001b[0;36m1\u001b[0m\u001b[0;34m)\u001b[0m\u001b[0;34m\u001b[0m\u001b[0;34m\u001b[0m\u001b[0m\n\u001b[1;32m     37\u001b[0m \u001b[0;34m\u001b[0m\u001b[0m\n\u001b[0;32m---> 38\u001b[0;31m     \u001b[0mnumber\u001b[0m \u001b[0;34m=\u001b[0m \u001b[0mint\u001b[0m\u001b[0;34m(\u001b[0m\u001b[0msys\u001b[0m\u001b[0;34m.\u001b[0m\u001b[0margv\u001b[0m\u001b[0;34m[\u001b[0m\u001b[0;36m1\u001b[0m\u001b[0;34m]\u001b[0m\u001b[0;34m)\u001b[0m\u001b[0;34m\u001b[0m\u001b[0;34m\u001b[0m\u001b[0m\n\u001b[0m\u001b[1;32m     39\u001b[0m     \u001b[0mfizzbuzz\u001b[0m\u001b[0;34m(\u001b[0m\u001b[0mnumber\u001b[0m\u001b[0;34m)\u001b[0m\u001b[0;34m\u001b[0m\u001b[0;34m\u001b[0m\u001b[0m\n",
            "\u001b[0;31mValueError\u001b[0m: invalid literal for int() with base 10: '-f'"
          ]
        }
      ],
      "source": [
        "#!/usr/bin/python3\n",
        "\"\"\" FizzBuzz\n",
        "\"\"\"\n",
        "import sys\n",
        "\n",
        "\n",
        "def fizzbuzz(n):\n",
        "    \"\"\"\n",
        "    FizzBuzz function prints numbers from 1 to n separated by a space.\n",
        "\n",
        "    - For multiples of three print \"Fizz\" instead of the number and for\n",
        "      multiples of five print \"Buzz\".\n",
        "    - For numbers which are multiples of both three and five print \"FizzBuzz\".\n",
        "    \"\"\"\n",
        "    if n < 1:\n",
        "        return\n",
        "\n",
        "    tmp_result = []\n",
        "    for i in range(1, n + 1):\n",
        "        if (i % 3) == 0 and (i % 5) != 0:\n",
        "            tmp_result.append(\"Fizz\")\n",
        "        elif (i % 3) == 0 and (i % 5) == 0:\n",
        "            tmp_result.append(\"FizzBuzz\")\n",
        "        elif (i % 5) == 0 and (i % 3) != 0:\n",
        "            tmp_result.append(\"Buzz\")\n",
        "        else:\n",
        "            tmp_result.append(str(i))\n",
        "    print(\" \".join(tmp_result))\n",
        "\n",
        "\n",
        "if __name__ == '__main__':\n",
        "    if len(sys.argv) <= 1:\n",
        "        print(\"Missing number\")\n",
        "        print(\"Usage: ./0-fizzbuzz.py <number>\")\n",
        "        print(\"Example: ./0-fizzbuzz.py 89\")\n",
        "        sys.exit(1)\n",
        "\n",
        "    number = int(sys.argv[1])\n",
        "    fizzbuzz(number)"
      ]
    },
    {
      "cell_type": "code",
      "source": [
        "fizzbuzz 5"
      ],
      "metadata": {
        "colab": {
          "base_uri": "https://localhost:8080/",
          "height": 135
        },
        "id": "aJRp6YIAqUB-",
        "outputId": "d98fa37b-c6fc-46a6-8193-f71b2fca264f"
      },
      "execution_count": 3,
      "outputs": [
        {
          "output_type": "error",
          "ename": "SyntaxError",
          "evalue": "ignored",
          "traceback": [
            "\u001b[0;36m  File \u001b[0;32m\"<ipython-input-3-46ba73c805a2>\"\u001b[0;36m, line \u001b[0;32m1\u001b[0m\n\u001b[0;31m    fizzbuzz 5\u001b[0m\n\u001b[0m             ^\u001b[0m\n\u001b[0;31mSyntaxError\u001b[0m\u001b[0;31m:\u001b[0m invalid syntax\n"
          ]
        }
      ]
    }
  ]
}