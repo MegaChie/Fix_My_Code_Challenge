{
  "nbformat": 4,
  "nbformat_minor": 0,
  "metadata": {
    "colab": {
      "provenance": [],
      "authorship_tag": "ABX9TyONfQkscfgbFeOkCKko38hF",
      "include_colab_link": true
    },
    "kernelspec": {
      "name": "python3",
      "display_name": "Python 3"
    },
    "language_info": {
      "name": "python"
    }
  },
  "cells": [
    {
      "cell_type": "markdown",
      "metadata": {
        "id": "view-in-github",
        "colab_type": "text"
      },
      "source": [
        "<a href=\"https://colab.research.google.com/github/MegaChie/Fix_My_Code_Challenge/blob/main/Notebook/Fix_My_Code_Challenge.ipynb\" target=\"_parent\"><img src=\"https://colab.research.google.com/assets/colab-badge.svg\" alt=\"Open In Colab\"/></a>"
      ]
    },
    {
      "cell_type": "code",
      "execution_count": null,
      "metadata": {
        "id": "BXQ_S_H2pRGV"
      },
      "outputs": [],
      "source": [
        "#!/usr/bin/python3\n",
        "\"\"\" FizzBuzz\n",
        "\"\"\"\n",
        "import sys\n",
        "\n",
        "\n",
        "def fizzbuzz(n):\n",
        "    \"\"\"\n",
        "    FizzBuzz function prints numbers from 1 to n separated by a space.\n",
        "\n",
        "    - For multiples of three print \"Fizz\" instead of the number and for\n",
        "      multiples of five print \"Buzz\".\n",
        "    - For numbers which are multiples of both three and five print \"FizzBuzz\".\n",
        "    \"\"\"\n",
        "    if n < 1:\n",
        "        return\n",
        "\n",
        "    tmp_result = []\n",
        "    for i in range(1, n + 1):\n",
        "        if (i % 3) == 0 and (i % 5) != 0:\n",
        "            tmp_result.append(\"Fizz\")\n",
        "        elif (i % 3) == 0 and (i % 5) == 0:\n",
        "            tmp_result.append(\"FizzBuzz\")\n",
        "        elif (i % 5) == 0 and (i % 3) != 0:\n",
        "            tmp_result.append(\"Buzz\")\n",
        "        else:\n",
        "            tmp_result.append(str(i))\n",
        "    print(\" \".join(tmp_result))\n",
        "\n",
        "\n",
        "if __name__ == '__main__':\n",
        "    if len(sys.argv) <= 1:\n",
        "        print(\"Missing number\")\n",
        "        print(\"Usage: ./0-fizzbuzz.py <number>\")\n",
        "        print(\"Example: ./0-fizzbuzz.py 89\")\n",
        "        sys.exit(1)\n",
        "\n",
        "    number = int(sys.argv[1])\n",
        "    fizzbuzz(number)"
      ]
    }
  ]
}